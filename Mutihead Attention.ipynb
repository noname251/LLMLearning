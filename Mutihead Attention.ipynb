{
 "cells": [
  {
   "cell_type": "code",
   "execution_count": 2,
   "id": "ed93f910-ef27-4461-8712-2f007754886c",
   "metadata": {},
   "outputs": [],
   "source": [
    "import torch\n",
    "import torch.nn as nn\n",
    "import torch.functional as F\n",
    "import math"
   ]
  },
  {
   "cell_type": "code",
   "execution_count": 3,
   "id": "7bf4ca9b",
   "metadata": {},
   "outputs": [],
   "source": [
    "# 输入模型超参数\n",
    "batch_model = 2\n",
    "time_model = 3\n",
    "d_model = 4\n",
    "n_head = 4"
   ]
  },
  {
   "cell_type": "code",
   "execution_count": 4,
   "id": "e8ddd811-769b-4f74-8d2c-e1cb5131a2b8",
   "metadata": {},
   "outputs": [
    {
     "data": {
      "text/plain": [
       "tensor([[[ 0.5670, -0.2079, -0.4773,  0.5721],\n",
       "         [-0.0022,  0.3746, -0.3123,  0.2069],\n",
       "         [-0.7390, -0.5398,  0.0989, -0.8785]],\n",
       "\n",
       "        [[-1.9192,  1.2830,  0.8590,  0.3066],\n",
       "         [-1.6756,  0.7590, -0.6096,  0.7293],\n",
       "         [-1.5181,  0.8786,  0.0272, -0.6043]]])"
      ]
     },
     "execution_count": 4,
     "metadata": {},
     "output_type": "execute_result"
    }
   ],
   "source": [
    "# 随机创建输入, qkv\n",
    "X = torch.randn(batch_model, time_model, d_model)\n",
    "X"
   ]
  },
  {
   "cell_type": "code",
   "execution_count": 5,
   "id": "d8659edd",
   "metadata": {},
   "outputs": [
    {
     "name": "stdout",
     "output_type": "stream",
     "text": [
      "torch.Size([2, 4, 3, 1])\n",
      "------------\n",
      "torch.Size([2, 4, 1, 3])\n",
      "torch.Size([2, 4, 1, 3])\n",
      "tensor([[[-0.3611,  0.0568, -0.0928,  0.3400],\n",
      "         [-0.4544,  0.1792, -0.1713,  0.3727],\n",
      "         [-0.2588,  0.0464,  0.0467,  0.2958]],\n",
      "\n",
      "        [[-0.4278, -0.3629, -0.1786,  0.2494],\n",
      "         [-0.6158, -0.0721, -0.2745,  0.2047],\n",
      "         [-0.7610, -0.3524, -0.4755,  0.2158]]], grad_fn=<ViewBackward0>) torch.Size([2, 3, 4])\n"
     ]
    }
   ],
   "source": [
    "# 创建模型结构\n",
    "# 问题1：前面这一这段代码的含义是什么，python相关\n",
    "class MultiHeadAttention(nn.Module):\n",
    "    def __init__(self, d_model, n_head):\n",
    "        # 注意这里super要传入自己和self，不能只传入自己，你要多学一些python的基础知识了\n",
    "        super(MultiHeadAttention, self).__init__()\n",
    "        \n",
    "        # 初始化超参数\n",
    "        self.n_head = n_head\n",
    "        self.d_model = d_model\n",
    "        # 创建qkv的三个线性映射层，用一个矩阵和qkv相乘，让qkv变得可学习\n",
    "        self.w_q = nn.Linear(d_model, d_model)\n",
    "        self.w_k = nn.Linear(d_model, d_model)\n",
    "        self.w_v = nn.Linear(d_model, d_model)\n",
    "        # 问题2：这个combine的作用是什么，矩阵经过怎样的运算\n",
    "        self.combine = nn.Linear(d_model,d_model)\n",
    "        self.softmax = nn.Softmax(dim=-2)\n",
    "\n",
    "    def forward(self, q, k, v):\n",
    "        batch, time, dimension = q.shape\n",
    "        # 得到每个头的dimension\n",
    "        n_d = d_model // n_head\n",
    "        # 让qkv进入线性层\n",
    "        q, k, v = self.w_q(q), self.w_k(k), self.w_v(v)\n",
    "\n",
    "        # 拆分qkv\n",
    "        # 问题3:为什么需要permute这个东西： \n",
    "        # 问题4:这个转置函数怎么用的，结果是什么\n",
    "        # 问题5:这两个四维矩阵是怎么乘起来的\n",
    "        # 为了更好的并行计算，变换之后，qkv矩阵形状变成(batch, n_head, time, n_d)，之后k要再次变换成(batch, n_head, n_d, time)\n",
    "        # 最后q @ k结果的shape是(batch, n_head, time, time)两个四维矩阵相乘，前面两个维度都不参与运算。\n",
    "        q = q.view(batch, time, n_head, n_d).permute(0, 2, 1, 3)\n",
    "        k = k.view(batch, time, n_head, n_d).permute(0, 2, 1, 3)\n",
    "        v = v.view(batch, time, n_head, n_d).permute(0, 2, 1, 3)\n",
    "        # 都是交换维度，只是交换维度的数量区别\n",
    "        print(k.shape)\n",
    "        print('------------')\n",
    "        print(k.permute(0, 1, 3, 2).shape)\n",
    "        print(k.transpose(2, 3).shape)\n",
    "        # 计算注意力结果 q*k转置/n_d\n",
    "        # score的shape为(batch, n_head, time, time)\n",
    "        score = q @ k.transpose(2,3) / math.sqrt(n_d)\n",
    "        # 生成mask，一个左下角为1的下三角矩阵\n",
    "        mask = torch.tril(torch.ones(time, time, dtype=bool))\n",
    "        # 让mask掩盖score中不应该被注意的数值,全部变成负无穷\n",
    "        # 问题6：这个masked_fill函数是哪里的，矩阵自带的吗，怎么用， pytorch张量自带的方法，用于用特定值填充掩码位置。\n",
    "        # 为什么需要combine\n",
    "        # 在多头注意力机制中，将多个头的输出重新组合成一个张量后，还需要通过一个线性变换来生成最终的输出。这是因为每个头的输出仅仅代表该头的注意力结果，最后通过线性层来融合各个头的信息，生成最终的表示。\n",
    "        # 1. 线性变换：尽管 permute 和 view 将多个头的输出重新组合成了一个张量，但是每个头的输出还需要进一步线性变换，以便在融合信息的同时对其进行适当的缩放和变换。\n",
    "        # 2. 参数化：combine 层通过线性层实现参数化，使得整个模型能够学习如何将多个头的注意力结果组合成最终的输出表示。这是模型学习的关键部分。\n",
    "        # 3. 增加模型表达能力：线性层通过增加可学习参数，提升了模型的表达能力，使其能够更好地捕捉复杂的模式和关系。\n",
    "        score = score.masked_fill(mask == 0, float('-inf'))\n",
    "        # 经过softmax然后@v, 点乘之后最后两个维度相乘，又变成(batch, n_head, time, n_d)了\n",
    "        score = self.softmax(score) @ v\n",
    "\n",
    "        # 把score的形状变换回来\n",
    "        score = score.permute(0, 2, 1, 3).contiguous().view(batch, time, dimension)\n",
    "\n",
    "        # combine score\n",
    "        # 问题7：这个combine的作用是什么\n",
    "        output = self.combine(score)\n",
    "        return output\n",
    "attention = MultiHeadAttention(d_model, n_head)\n",
    "output = attention(X, X, X)\n",
    "print(output, output.shape)"
   ]
  }
 ],
 "metadata": {
  "kernelspec": {
   "display_name": "Python 3 (ipykernel)",
   "language": "python",
   "name": "python3"
  },
  "language_info": {
   "codemirror_mode": {
    "name": "ipython",
    "version": 3
   },
   "file_extension": ".py",
   "mimetype": "text/x-python",
   "name": "python",
   "nbconvert_exporter": "python",
   "pygments_lexer": "ipython3",
   "version": "3.10.8"
  }
 },
 "nbformat": 4,
 "nbformat_minor": 5
}
